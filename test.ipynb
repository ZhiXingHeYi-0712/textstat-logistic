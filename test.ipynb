{
 "cells": [
  {
   "cell_type": "code",
   "execution_count": 1,
   "metadata": {},
   "outputs": [],
   "source": [
    "import textstat\n",
    "import re"
   ]
  },
  {
   "cell_type": "code",
   "execution_count": 2,
   "metadata": {},
   "outputs": [],
   "source": [
    "test_data = \"\"\"son is a cat. son likes to take walks. son likes to play. son likes to eat fish. At the end of the day, son curls up and sleeps by the fire. You are a good cat, son! Look What I Can Do!\"\"\".strip().replace('\\n', ' ')"
   ]
  },
  {
   "cell_type": "code",
   "execution_count": 3,
   "metadata": {},
   "outputs": [
    {
     "name": "stdout",
     "output_type": "stream",
     "text": [
      "day 204\n",
      "what 51\n",
      "fish 1146\n",
      "look 352\n",
      "sleep 3985\n",
      "can 27\n",
      "a 4\n",
      "of 1\n",
      "up 142\n",
      "to 6\n",
      "eat 1633\n",
      "by 13\n",
      "walk 1723\n",
      "be 2\n",
      "at 22\n",
      "cat 4523\n",
      "the 0\n",
      "end 357\n",
      "good 253\n",
      "like 170\n",
      "and 3\n",
      "son 1154\n",
      "you 78\n",
      "fire 1740\n",
      "play 396\n",
      "take 75\n",
      "do 24\n",
      "curl 17872\n",
      "i 28\n",
      "2.3844495356803606\n"
     ]
    },
    {
     "data": {
      "text/plain": [
       "(0.68, 0.376504581683929, 0.30256)"
      ]
     },
     "execution_count": 3,
     "metadata": {},
     "output_type": "execute_result"
    }
   ],
   "source": [
    "textstat.logistic_dale_chall_readability_score(test_data)"
   ]
  }
 ],
 "metadata": {
  "kernelspec": {
   "display_name": "base",
   "language": "python",
   "name": "python3"
  },
  "language_info": {
   "codemirror_mode": {
    "name": "ipython",
    "version": 3
   },
   "file_extension": ".py",
   "mimetype": "text/x-python",
   "name": "python",
   "nbconvert_exporter": "python",
   "pygments_lexer": "ipython3",
   "version": "3.9.12"
  },
  "orig_nbformat": 4
 },
 "nbformat": 4,
 "nbformat_minor": 2
}
